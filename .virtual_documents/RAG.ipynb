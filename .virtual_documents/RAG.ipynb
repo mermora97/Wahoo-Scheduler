


#load packages
import pandas as pd
from functools import partial
from langchain.text_splitter import RecursiveCharacterTextSplitter
import os
import json
import tiktoken
import nltk
import chromadb
from sentence_transformers import SentenceTransformer
from transformers import AutoProcessor, AutoTokenizer, AutoModelForImageTextToText
import torch
from huggingface_hub import login
from dotenv import load_dotenv
import torchvision
from llama_cpp import Llama





#read in csv for majors
majors = pd.read_csv("Scraped_data/uva_majors.csv")
majors.head(12)


# Remove first rows (non major data)
majors = majors.iloc[8:-1]


majors.iloc[0].Text


# Remove the extra text from the text column
test = 'Info For Students Alumni Military Affiliated Students Faculty & Staff Search Search Submit Search Close search Info For Students Alumni Military Affiliated Students Faculty & Staff Calendars Academic Calendars Exam Schedules Student Records Diplomas Transcripts FERPA Programs Calendar Schools University Registrar Carruthers Hall, 1001 N. Emmet St. P.O. Box 400203 Charlottesville, VA 22904-4203 Staff Directory Contact Info Phone: (434) 924-4122 Fax: (434) 924-4156 Email: [email protected] Hours Of Operation M-F: 10am - noon and 1pm - 4pm Â© 2024 By the Rector and Visitors of the University of Virginia Legal Privacy Report a Barrier Share Your Feedback University of Virginia Mar 31, 2025 Undergraduate Record 2024-2025 Select a Catalog Undergraduate Record 2024-2025 Graduate Record 2024-2025 Global Search Catalog Search Choose Search Location Select an option Courses Programs Schools/Colleges & Departments Policies and Other Non-Academic Content Entire Catalog Search Keyword Field Whole Word/Phrase Advanced Search Catalog Navigation Catalog Home Academic Calendar Admission Schools Programs, Degrees & Course Info Student Resources ROTC University Regulations About UVA Archived Records HELP Undergraduate Record 2024-2025'
text_to_remove_head = 'Info For Students Alumni Military Affiliated Students Faculty & Staff Search Search Submit Search Close search Info For Students Alumni Military Affiliated Students Faculty & Staff Calendars Academic Calendars Exam Schedules Student Records Diplomas Transcripts FERPA Programs Calendar Schools University Registrar Carruthers Hall, 1001 N. Emmet St. P.O. Box 400203 Charlottesville, VA 22904-4203 Staff Directory Contact Info Phone: (434) 924-4122 Fax: (434) 924-4156 Email: [email protected] Hours Of Operation M-F: 10am - noon and 1pm - 4pm Â© 2024 By the Rector and Visitors of the University of Virginia Legal Privacy Report a Barrier Share Your Feedback University of Virginia Mar 12, 2025 Undergraduate Record 2024-2025 Select a Catalog Undergraduate Record 2024-2025 Graduate Record 2024-2025 Global Search Catalog Search Choose Search Location Select an option Courses Programs Schools/Colleges & Departments Policies and Other Non-Academic Content Entire Catalog Search Keyword Field Whole Word/Phrase Advanced Search Catalog Navigation Catalog Home Academic Calendar Admission Schools Programs, Degrees & Course Info Student Resources ROTC University Regulations About UVA Archived Records HELP Undergraduate Record 2024-2025' 
text_to_remove_tail = 'Back to Top | Print-Friendly Page (opens a new window) All catalogs © 2025 University of Virginia. Powered by Modern Campus Catalog™ . .'
# Function to remove the text
def remove_text(text):
    if text.startswith(text_to_remove_head):
        text = text[len(text_to_remove_head):]
    if text.startswith(test):
        text = text[len(test):]
    if text.endswith(text_to_remove_tail):
        text = text[:-len(text_to_remove_tail)]
    return text.strip()

# Apply the function to the text column
majors['Text'] = majors['Text'].apply(remove_text)
majors.head()


# Since some of the majors have extra text that is a bit different, we need to remove it
majors[majors['Major'] == 'Psychology, B.A.']['Text']

majors[50:90]


# Remove extra text from the majors column where majors includes "interdisciplinary"
text_to_remove = 'Interdisciplinary - '
text_to_remove2 = 'Interdisciplinary Major - '

def remove_text_majors(text):
    if text.startswith(text_to_remove):
        text = text[len(text_to_remove):]
    if text.startswith(text_to_remove2):
        text = text[len(text_to_remove2):]
    return text.strip()

#apply the function to the majors column
majors['Major'] = majors['Major'].apply(remove_text_majors)


majors[20:40]


# Read in schools data
schools = pd.read_csv("Scraped_data/uva_schools_academic_rules.csv")
schools


# Remove the extra text from the text column
extra_begining_text = 'Info For Students Alumni Military Affiliated Students Faculty & Staff Search Search Submit Search Close search Info For Students Alumni Military Affiliated Students Faculty & Staff Calendars Academic Calendars Exam Schedules Student Records Diplomas Transcripts FERPA Programs Calendar Schools University Registrar Carruthers Hall, 1001 N. Emmet St. P.O. Box 400203 Charlottesville, VA 22904-4203 Staff Directory Contact Info Phone: (434) 924-4122 Fax: (434) 924-4156 Email: [email protected] Hours Of Operation M-F: 10am - noon and 1pm - 4pm Â© 2024 By the Rector and Visitors of the University of Virginia Legal Privacy Report a Barrier Share Your Feedback University of Virginia Mar 31, 2025 Undergraduate Record 2024-2025 Select a Catalog Undergraduate Record 2024-2025 Graduate Record 2024-2025 Global Search Catalog Search Choose Search Location Select an option Courses Programs Schools/Colleges & Departments Policies and Other Non-Academic Content Entire Catalog Search Keyword Field Whole Word/Phrase Advanced Search Catalog Navigation Catalog Home Academic Calendar Admission Schools Programs, Degrees & Course Info Student Resources ROTC University Regulations About UVA Archived Records HELP Undergraduate Record 2024-2025'

def remove_text_requirements(text):
    if text.startswith(extra_begining_text):
        text = text[len(extra_begining_text):]
    return text.strip()

# Run the function on the text column
schools['Text'] = schools['Text'].apply(remove_text_requirements)


schools





# Copy of the majors data frame
majors_meta = majors.copy()
majors_meta['School'] = None
majors_meta = majors_meta.reset_index(drop=True)

# Add school to each majors in major data frame
majors_meta.loc[:2, 'School'] = 'School of Architecture'
majors_meta.loc[3:61, 'School'] = 'College of Arts and Sciences'
majors_meta.loc[62, 'School'] = 'McIntire School of Commerce'
majors_meta.loc[63:64, 'School'] = 'School of Continuing and Professional Studies'
majors_meta.loc[65, 'School'] = 'School of Data Science'
majors_meta.loc[66:71, 'School'] = 'School of Education and Human Development'
majors_meta.loc[72:82, 'School'] = 'School of Engineering and Applied Science'
majors_meta.loc[83, 'School'] = 'Frank Batten School of Leadership and Public Policy'
majors_meta.loc[84, 'School'] = 'School of Nursing'

majors_meta.head(10)


# Convert majors to dictionary
majors_dict = majors_meta.to_dict(orient='records')
majors_dict[0:2]


# Convert schools to dictionary
schools_dict = schools.to_dict(orient='records')
schools_dict





# Disable tokenizer parallelism so we stop getting problems
#os.environ["TOKENIZERS_PARALLELISM"] = "false"


import nltk
print(nltk.__version__)


from nltk.tokenize.punkt import PunktSentenceTokenizer
from nltk.data import find
import pickle
# Load from manually downloaded location
punkt_path = find('tokenizers/punkt/english.pickle')

# Load and deserialize the tokenizer properly
with open(punkt_path, 'rb') as f:
    tokenizer = pickle.load(f)
sent_tokenize = tokenizer.tokenize

# Use it
text = "This is a sentence. Here is another one."
print(sent_tokenize(text))


# Load tokenizer (for OpenAI models)
tokenizer = tiktoken.get_encoding("cl100k_base")

# Function to chunk text while maintaining sentence structure
def chunk_text(text, max_tokens=500):
    sentences = nltk.tokenize.sent_tokenize(text)
    chunks = []
    current_chunk = []
    current_length = 0

    for sentence in sentences:
        sentence_tokens = len(tokenizer.encode(sentence))

        # Handle rare case of a sentence longer than max_tokens
        if sentence_tokens > max_tokens:
            if current_chunk:
                chunks.append(" ".join(current_chunk))
                current_chunk = []
                current_length = 0
            chunks.append(sentence)  # Add long sentence as its own chunk
            continue

        if current_length + sentence_tokens > max_tokens:
            chunks.append(" ".join(current_chunk))
            current_chunk = [sentence]
            current_length = sentence_tokens
        else:
            current_chunk.append(sentence)
            current_length += sentence_tokens

    if current_chunk:
        chunks.append(" ".join(current_chunk))

    return chunks





# 1. Initialize Chroma (persistent DB stored in ./chroma_db folder)
chroma_client = chromadb.PersistentClient(path="./chroma_db")  
# 2. Create or load a collection
if "Majors_Collection" in [col.name for col in chroma_client.list_collections()]:
    chroma_client.delete_collection(name="Majors_Collection")
    
collection = chroma_client.get_or_create_collection(name="Majors_Collection")

# 3. Load embedding model
model = SentenceTransformer("all-MiniLM-L6-v2")


# 4. Store chunked majors data
for course in majors_dict:
    chunks = chunk_text(course["Text"])

    embeddings = model.encode(chunks).tolist()
    ids = [f"{course['Major']}_chunk{i}" for i in range(len(chunks))]
    metadatas = [{
        "Major": course["Major"],
        "chunk_index": i,
        "Text": chunk,
        "School": course['School']} for i, chunk in enumerate(chunks)]
    
    collection.add(ids=ids, embeddings=embeddings, metadatas=metadatas)

# Store chunked schools data
for course in schools_dict:
    chunks = chunk_text(course["Text"])
    embeddings = model.encode(chunks).tolist()

    ids = [f"{course['School']}_chunk{i}" for i in range(len(chunks))]
    metadatas = [{
        "School": course["School"],
        "chunk_index": i,
        "Text": chunk} for i, chunk in enumerate(chunks)]


    collection.add(ids=ids, embeddings=embeddings, metadatas=metadatas)





# Function for document retrieval
def retrieve_major_and_school_info(query, k_m=10, k_s = 2):
    # Step 1: Retrieve major-related chunks
    query_embedding = model.encode(query).tolist()

    # Step 2: Query ChromaDB for relevant major chunks
    results = collection.query(
        query_embeddings=[query_embedding],
        n_results=k_m
    )

    # Step 2: Extract major-specific results and school information
    major_info = []
    for i in range(len(results["ids"][0])):
        metadata = results["metadatas"][0][i]
        # If the metadata has 'major_name', this is a major document
        if metadata.get("Major"):
            major_info.append(metadata)

    # Step 3: Filter for major-related documents
    major_info = []
    schools_to_query = set()

    for metadata in results.get("metadatas", [[]])[0]:
        major = metadata.get("Major")
        school = metadata.get("School")
        if major:
            major_info.append(metadata)
            if school:
                schools_to_query.add(school) # Extract school name

    # Step 4: Retrieve relevant school descriptions based on the inferred school name
    school_info = []
    for school_name in schools_to_query:
        school_results = collection.query(
            query_embeddings=[query_embedding],
            where={"School": school_name},
            n_results=k_s
        )
        school_info.extend(school_results["metadatas"][0])

    return major_info, school_info


# Example search for "computer science"
query = "course schedule for computer science major"
major_info, school_info = retrieve_major_and_school_info(query, 10, 5)


major_info[0:2]


school_info[0:2]


# Function to reformat major info into a long string
def format_major_info_string(major_info):
    formatted_texts = []
    for doc in major_info:
        school = doc.get('School', 'Unknown School') #get school or unknown school
        major = doc.get("Major", "Unknown Major")  # Get Major, or "Unknown Major" if missing
        text = doc.get("Text", "No Text Available")  # Get Text, or "No Text Available" if missing

        # Clean up newline characters and non-breaking spaces
        cleaned_text = text.replace("\n", " ").replace("\xa0", " ")

        formatted_texts.append(f"{school}: {major}: {cleaned_text}")

    context = "\n\n".join(formatted_texts)  # Join with double newlines for separation
    return context


# Function to reformat school info into a long string
def format_school_info_string(school_info):
    formatted_texts = []
    for doc in school_info:
        school = doc.get('School', 'Unknown School') #get school or unknown school
        text = doc.get("Text", "No Text Available")  # Get Text, or "No Text Available" if missing

        # Clean up newline characters and non-breaking spaces
        cleaned_text = text.replace("\n", " ").replace("\xa0", " ")
        #cleaned_text = " ".join(text.split()) 

        formatted_texts.append(f"{school} \n {cleaned_text}")

    context = "\n\n".join(formatted_texts)  # Join with double newlines for separation
    return context





#jupyter nbextension enable --py widgetsnbextension --sys-prefix
load_dotenv() # Load environment variables from .env file
token = os.getenv("HUGGINFACE_TOKEN") # Retrieve the token

# Log into huggingface
login(token = token)

#load 6-bit quantized mistral model
llm = Llama.from_pretrained(
	repo_id = "bartowski/mistralai_Mistral-Small-3.1-24B-Instruct-2503-GGUF",
	filename = "mistralai_Mistral-Small-3.1-24B-Instruct-2503-IQ2_M.gguf",
    n_ctx = 100000 #token size, might be excessive (about 75-100 pages of text)
)


#set system prompt
SYSTEM_PROMPT = """You are a University of Virginia undergraduate course scheduler. 
You use retrieved documents to create a schedule for one semester. A full time student should have between 12-15 credits per semester. 
Provide clear and concise answers based on the provided context.
"""





#function to generate response from LLM using llama-cpp-python library
def generate_response(query, k_m, k_s):
    '''retrieve relevant documents from majors and schools and generate response to user query using mistral 3 model'''

    #get documents
    major_info, school_info = retrieve_major_and_school_info(query, k_m, k_s)
    major = format_major_info_string(major_info)
    school = format_school_info_string(school_info)
    context = major + school

    #construct prompt
    prompt = f"{SYSTEM_PROMPT}\n\nContext:\n{context}\n\nQuestion: {query}"

    #generate response using llama-cpp-python
    response = llm(
        prompt=prompt,
        max_tokens=2000,  # Adjust max tokens as needed
        temperature=0.3,  # Adjust temperature as needed
        top_p=0.5       # Adjust top_p as needed
        #stop=["\n"]      # Define stop tokens if necessary
    )

    return response["choices"][0]["text"].strip()





user_query = "I'm a computer science major at UVA and I need a schedule for the spring semester of my third year"
response = generate_response(user_query, 10, 5)


print(response)
