


#load packages
import pandas as pd
from functools import partial
from langchain.text_splitter import RecursiveCharacterTextSplitter
import os
import json
import tiktoken
import nltk
import chromadb
from sentence_transformers import SentenceTransformer
from transformers import AutoProcessor, AutoTokenizer, AutoModelForImageTextToText
import torch
from huggingface_hub import login
from dotenv import load_dotenv
import torchvision
from llama_cpp import Llama








#read in csv for majors
majors = pd.read_csv("Scraped_data/uva_majors.csv")
majors.head(12)


# Remove first rows (non major data)
majors = majors.iloc[8:-1]


print(majors.iloc[0].Text)


# Remove the extra text from the text column
test = 'Info For Students Alumni Military Affiliated Students Faculty & Staff Search Search Submit Search Close search Info For Students Alumni Military Affiliated Students Faculty & Staff Calendars Academic Calendars Exam Schedules Student Records Diplomas Transcripts FERPA Programs Calendar Schools University Registrar Carruthers Hall, 1001 N. Emmet St. P.O. Box 400203 Charlottesville, VA 22904-4203 Staff Directory Contact Info Phone: (434) 924-4122 Fax: (434) 924-4156 Email: [email protected] Hours Of Operation M-F: 10am - noon and 1pm - 4pm Â© 2024 By the Rector and Visitors of the University of Virginia Legal Privacy Report a Barrier Share Your Feedback University of Virginia Mar 31, 2025 Undergraduate Record 2024-2025 Select a Catalog Undergraduate Record 2024-2025 Graduate Record 2024-2025 Global Search Catalog Search Choose Search Location Select an option Courses Programs Schools/Colleges & Departments Policies and Other Non-Academic Content Entire Catalog Search Keyword Field Whole Word/Phrase Advanced Search Catalog Navigation Catalog Home Academic Calendar Admission Schools Programs, Degrees & Course Info Student Resources ROTC University Regulations About UVA Archived Records HELP Undergraduate Record 2024-2025'
text_to_remove_head = 'Info For Students Alumni Military Affiliated Students Faculty & Staff Search Search Submit Search Close search Info For Students Alumni Military Affiliated Students Faculty & Staff Calendars Academic Calendars Exam Schedules Student Records Diplomas Transcripts FERPA Programs Calendar Schools University Registrar Carruthers Hall, 1001 N. Emmet St. P.O. Box 400203 Charlottesville, VA 22904-4203 Staff Directory Contact Info Phone: (434) 924-4122 Fax: (434) 924-4156 Email: [email protected] Hours Of Operation M-F: 10am - noon and 1pm - 4pm Â© 2024 By the Rector and Visitors of the University of Virginia Legal Privacy Report a Barrier Share Your Feedback University of Virginia Mar 12, 2025 Undergraduate Record 2024-2025 Select a Catalog Undergraduate Record 2024-2025 Graduate Record 2024-2025 Global Search Catalog Search Choose Search Location Select an option Courses Programs Schools/Colleges & Departments Policies and Other Non-Academic Content Entire Catalog Search Keyword Field Whole Word/Phrase Advanced Search Catalog Navigation Catalog Home Academic Calendar Admission Schools Programs, Degrees & Course Info Student Resources ROTC University Regulations About UVA Archived Records HELP Undergraduate Record 2024-2025' 
text_to_remove_tail = 'Back to Top | Print-Friendly Page (opens a new window) All catalogs © 2025 University of Virginia. Powered by Modern Campus Catalog™ . .'
# Function to remove the text
def remove_text(text):
    if text.startswith(text_to_remove_head):
        text = text[len(text_to_remove_head):]
    if text.startswith(test):
        text = text[len(test):]
    if text.endswith(text_to_remove_tail):
        text = text[:-len(text_to_remove_tail)]
    return text.strip()

# Apply the function to the text column
majors['Text'] = majors['Text'].apply(remove_text)
majors.head()


# Since some of the majors have extra text that is a bit different, we need to remove it
majors[majors['Major'] == 'Psychology, B.A.']['Text']

majors[50:90]


# Remove extra text from the majors column where majors includes "interdisciplinary"
text_to_remove = 'Interdisciplinary - '
text_to_remove2 = 'Interdisciplinary Major - '

def remove_text_majors(text):
    if text.startswith(text_to_remove):
        text = text[len(text_to_remove):]
    if text.startswith(text_to_remove2):
        text = text[len(text_to_remove2):]
    return text.strip()

#apply the function to the majors column
majors['Major'] = majors['Major'].apply(remove_text_majors)


majors[20:40]


# Read in schools data
schools = pd.read_csv("Scraped_data/uva_schools_academic_rules.csv")
schools


# Remove the extra text from the text column
extra_begining_text = 'Info For Students Alumni Military Affiliated Students Faculty & Staff Search Search Submit Search Close search Info For Students Alumni Military Affiliated Students Faculty & Staff Calendars Academic Calendars Exam Schedules Student Records Diplomas Transcripts FERPA Programs Calendar Schools University Registrar Carruthers Hall, 1001 N. Emmet St. P.O. Box 400203 Charlottesville, VA 22904-4203 Staff Directory Contact Info Phone: (434) 924-4122 Fax: (434) 924-4156 Email: [email protected] Hours Of Operation M-F: 10am - noon and 1pm - 4pm Â© 2024 By the Rector and Visitors of the University of Virginia Legal Privacy Report a Barrier Share Your Feedback University of Virginia Mar 31, 2025 Undergraduate Record 2024-2025 Select a Catalog Undergraduate Record 2024-2025 Graduate Record 2024-2025 Global Search Catalog Search Choose Search Location Select an option Courses Programs Schools/Colleges & Departments Policies and Other Non-Academic Content Entire Catalog Search Keyword Field Whole Word/Phrase Advanced Search Catalog Navigation Catalog Home Academic Calendar Admission Schools Programs, Degrees & Course Info Student Resources ROTC University Regulations About UVA Archived Records HELP Undergraduate Record 2024-2025'

def remove_text_requirements(text):
    if text.startswith(extra_begining_text):
        text = text[len(extra_begining_text):]
    return text.strip()

# Run the function on the text column
schools['Text'] = schools['Text'].apply(remove_text_requirements)


schools





# Copy of the majors data frame
majors_meta = majors.copy()
majors_meta['School'] = None
majors_meta = majors_meta.reset_index(drop=True)

# Add school to each majors in major data frame
majors_meta.loc[:2, 'School'] = 'School of Architecture'
majors_meta.loc[3:61, 'School'] = 'College of Arts and Sciences'
majors_meta.loc[62, 'School'] = 'McIntire School of Commerce'
majors_meta.loc[63:64, 'School'] = 'School of Continuing and Professional Studies'
majors_meta.loc[65, 'School'] = 'School of Data Science'
majors_meta.loc[66:71, 'School'] = 'School of Education and Human Development'
majors_meta.loc[72:82, 'School'] = 'School of Engineering and Applied Science'
majors_meta.loc[83, 'School'] = 'Frank Batten School of Leadership and Public Policy'
majors_meta.loc[84, 'School'] = 'School of Nursing'

majors_meta.head(10)


print(majors_meta.iloc[0].Text[4176:6277], '...')





majors_meta.head()


from llama_index.embeddings.huggingface import HuggingFaceEmbedding
from llama_index.core import Settings

embed_model = HuggingFaceEmbedding(model_name = "all-MiniLM-L6-v2") # Load local embedding model
Settings.embed_model = embed_model
print("Embedding a test sentence:", Settings.embed_model.get_text_embedding("test sentence")[:5])


from llama_index.core.schema import Document
from llama_index.core import VectorStoreIndex
from llama_index.vector_stores.chroma import ChromaVectorStore

# Convert each row to a LlamaIndex document
documents = [
    Document(
        text = row["Text"],
        metadata = {"Major": row["Major"], "School": row["School"]}
    )
    for _, row in majors_meta.iterrows()
]

# 1. Initialize Chroma vector store (persistent DB stored in ./chroma_db folder)
chroma_store = ChromaVectorStore.from_params(
    collection_name = "majors_collection",
    persist_dir = "./chroma_db",  # local directory for vector store
    anonymized_telemetry = False
)

# 2. Build the index — this will auto-chunk + auto-embed
embed_model = HuggingFaceEmbedding(model_name = "all-MiniLM-L6-v2") # Load local embedding model
index = VectorStoreIndex.from_documents(documents, vector_store = chroma_store)
index.storage_context.persist(persist_dir = "/.chroma_db") # 3. Persist to disk





from llama_index.core import StorageContext, load_index_from_storage

# 1. Reload the Index from Storage
storage_context = StorageContext.from_defaults(persist_dir = "/.chroma_db")
index = load_index_from_storage(storage_context)

# 2. Set Up a Query Engine (Retriever + LLM)
retriever = index.as_retriever(similarity_top_k = 2, embed_model = embed_model)

query = "course schedule for computer science major"
nodes = retriever.retrieve(query)

for i, node in enumerate(nodes, 1):
    print(f"\n📚 Result {i}:")
    print(node.metadata)
    print(node.text[:500])





from llama_index.llms.huggingface import HuggingFaceLLM
from llama_index.core.query_engine import RetrieverQueryEngine

#load_dotenv() # Load environment variables from .env file
#token = os.getenv("HUGGINFACE_TOKEN") # Retrieve the token

# Log into huggingface
#login(token = token)

# 1. Load model
llm = HuggingFaceLLM(model_name = "tiiuae/falcon-7b-instruct",
                     tokenizer_name = "tiiuae/falcon-7b-instruct",  # match the model
                     device_map = "auto",       # uses GPU if available, else CPU
                     generate_kwargs = {
                         "max_new_tokens": 512,
                         "temperature": 0.7
                     }
                    )





!pip install llama_index.query_engine


from llama_index.query_engine import RetrieverQueryEngine

system_instructions = (
    "You are a helpful academic advisor. "
    "Only use the context provided below to answer the query. "
    "Do not hallucinate or add any information that is not in the context. "
    "Answer in a clear, bullet-point format."
)

# Query wrapper that inserts the system instructions, the retrieved context, and the user query.
query_wrapper_prompt = QueryWrapperPrompt(
    prompt_template = (
        "{system_prompt}\n\n"
        "Context:\n{context_str}\n\n"
        "User Query:\n{query_str}\n\n"
        "Answer:"
    ),
    system_prompt = system_instructions  # this value is injected into the prompt
)


# 2. Use RetrieverQuery engine (retrieve + generation)
query_engine = RetrieverQueryEngine.from_args(
    retriever = index.as_retriever(embed_model = embed_model),
    llm = llm, # local generation model
    query_wrapper_prompt = query_wrapper_prompt # Use different prompts for generation and DB retrieval 
)

response = query_engine.query("I want a major with sustainability and environment")
print(response)


#set system prompt
SYSTEM_PROMPT = """You are a University of Virginia undergraduate course scheduler.
The user wants to extract only the 'Core Courses'
mentioned in the text. Output them as a bullet list. If none are found, say 'None found'.
"""





#function to generate response from LLM using llama-cpp-python library
def generate_response(query, k_m, k_s):
    '''retrieve relevant documents from majors and schools and generate response to user query using mistral 3 model'''

    #get documents
    major_info, school_info = retrieve_major_and_school_info(query, k_m, k_s)
    major = format_major_info_string(major_info)
    school = format_school_info_string(school_info)
    context = major + school

    #construct prompt
    prompt = f"{SYSTEM_PROMPT}\n\nContext:\n{context}\n\nQuestion: {query}"

    #generate response using llama-cpp-python
    response = llm(
        prompt=prompt,
        max_tokens=2000,  # Adjust max tokens as needed
        temperature=0.3,  # Adjust temperature as needed
        top_p=0.5       # Adjust top_p as needed
        #stop=["\n"]      # Define stop tokens if necessary
    )

    return response["choices"][0]["text"].strip()





user_query = "I'm a computer science major at UVA and I need a schedule for the spring semester of my third year"
response = generate_response(user_query, 10, 5)


print(response)
