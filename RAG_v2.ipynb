{
 "cells": [
  {
   "cell_type": "markdown",
   "metadata": {},
   "source": [
    "# Import required packages"
   ]
  },
  {
   "cell_type": "code",
   "execution_count": 130,
   "metadata": {
    "tags": []
   },
   "outputs": [],
   "source": [
    "#load packages\n",
    "import pandas as pd\n",
    "import os\n",
    "import json\n",
    "import chromadb\n",
    "from sentence_transformers import SentenceTransformer\n",
    "import torch\n",
    "from huggingface_hub import login\n",
    "from dotenv import load_dotenv\n",
    "import torchvision"
   ]
  },
  {
   "cell_type": "markdown",
   "metadata": {},
   "source": [
    "# Load in Documents"
   ]
  },
  {
   "cell_type": "code",
   "execution_count": 136,
   "metadata": {
    "tags": []
   },
   "outputs": [
    {
     "data": {
      "text/html": [
       "<div>\n",
       "<style scoped>\n",
       "    .dataframe tbody tr th:only-of-type {\n",
       "        vertical-align: middle;\n",
       "    }\n",
       "\n",
       "    .dataframe tbody tr th {\n",
       "        vertical-align: top;\n",
       "    }\n",
       "\n",
       "    .dataframe thead th {\n",
       "        text-align: right;\n",
       "    }\n",
       "</style>\n",
       "<table border=\"1\" class=\"dataframe\">\n",
       "  <thead>\n",
       "    <tr style=\"text-align: right;\">\n",
       "      <th></th>\n",
       "      <th>Major</th>\n",
       "      <th>Text</th>\n",
       "      <th>School</th>\n",
       "    </tr>\n",
       "  </thead>\n",
       "  <tbody>\n",
       "    <tr>\n",
       "      <th>0</th>\n",
       "      <td>Architectural History, B.Ar.H.</td>\n",
       "      <td>Architectural History, B.Ar.H. Print-Friendly ...</td>\n",
       "      <td>School of Architecture</td>\n",
       "    </tr>\n",
       "    <tr>\n",
       "      <th>1</th>\n",
       "      <td>Architecture, B.S.</td>\n",
       "      <td>Architecture, B.S. Print-Friendly Page (opens ...</td>\n",
       "      <td>School of Architecture</td>\n",
       "    </tr>\n",
       "    <tr>\n",
       "      <th>2</th>\n",
       "      <td>Urban and Environmental Planning, B.U.E.P.</td>\n",
       "      <td>Urban and Environmental Planning, B.U.E.P. Pri...</td>\n",
       "      <td>School of Architecture</td>\n",
       "    </tr>\n",
       "    <tr>\n",
       "      <th>3</th>\n",
       "      <td>African-American and African Studies, B.A.</td>\n",
       "      <td>African American and African Studies, B.A. Pri...</td>\n",
       "      <td>College of Arts and Sciences</td>\n",
       "    </tr>\n",
       "    <tr>\n",
       "      <th>4</th>\n",
       "      <td>Anthropology, B.A.</td>\n",
       "      <td>Anthropology, B.A. Print-Friendly Page (opens ...</td>\n",
       "      <td>College of Arts and Sciences</td>\n",
       "    </tr>\n",
       "  </tbody>\n",
       "</table>\n",
       "</div>"
      ],
      "text/plain": [
       "                                        Major  \\\n",
       "0              Architectural History, B.Ar.H.   \n",
       "1                          Architecture, B.S.   \n",
       "2  Urban and Environmental Planning, B.U.E.P.   \n",
       "3  African-American and African Studies, B.A.   \n",
       "4                          Anthropology, B.A.   \n",
       "\n",
       "                                                Text  \\\n",
       "0  Architectural History, B.Ar.H. Print-Friendly ...   \n",
       "1  Architecture, B.S. Print-Friendly Page (opens ...   \n",
       "2  Urban and Environmental Planning, B.U.E.P. Pri...   \n",
       "3  African American and African Studies, B.A. Pri...   \n",
       "4  Anthropology, B.A. Print-Friendly Page (opens ...   \n",
       "\n",
       "                         School  \n",
       "0        School of Architecture  \n",
       "1        School of Architecture  \n",
       "2        School of Architecture  \n",
       "3  College of Arts and Sciences  \n",
       "4  College of Arts and Sciences  "
      ]
     },
     "execution_count": 136,
     "metadata": {},
     "output_type": "execute_result"
    }
   ],
   "source": [
    "# Read in csv for majors\n",
    "majors_meta = pd.read_csv(\"Scraped_data/majors_meta_cleaned.csv\")\n",
    "majors_meta.head()"
   ]
  },
  {
   "cell_type": "code",
   "execution_count": 148,
   "metadata": {
    "tags": []
   },
   "outputs": [
    {
     "data": {
      "text/html": [
       "<div>\n",
       "<style scoped>\n",
       "    .dataframe tbody tr th:only-of-type {\n",
       "        vertical-align: middle;\n",
       "    }\n",
       "\n",
       "    .dataframe tbody tr th {\n",
       "        vertical-align: top;\n",
       "    }\n",
       "\n",
       "    .dataframe thead th {\n",
       "        text-align: right;\n",
       "    }\n",
       "</style>\n",
       "<table border=\"1\" class=\"dataframe\">\n",
       "  <thead>\n",
       "    <tr style=\"text-align: right;\">\n",
       "      <th></th>\n",
       "      <th>ClassNumber</th>\n",
       "      <th>Mnemonic</th>\n",
       "      <th>Number</th>\n",
       "      <th>Section</th>\n",
       "      <th>Type</th>\n",
       "      <th>Units</th>\n",
       "      <th>Instructor</th>\n",
       "      <th>Days</th>\n",
       "      <th>Room</th>\n",
       "      <th>Title</th>\n",
       "      <th>Topic</th>\n",
       "      <th>Status</th>\n",
       "      <th>Enrollment</th>\n",
       "      <th>EnrollmentLimit</th>\n",
       "      <th>Waitlist</th>\n",
       "      <th>filename</th>\n",
       "    </tr>\n",
       "  </thead>\n",
       "  <tbody>\n",
       "    <tr>\n",
       "      <th>0</th>\n",
       "      <td>10003</td>\n",
       "      <td>AAS</td>\n",
       "      <td>1010</td>\n",
       "      <td>100</td>\n",
       "      <td>Lecture</td>\n",
       "      <td>4</td>\n",
       "      <td>Robert Vinson, Naseemah Mohamed</td>\n",
       "      <td>TuTh 12:30pm - 1:45pm</td>\n",
       "      <td>Minor Hall 125</td>\n",
       "      <td>Introduction to African-American and African S...</td>\n",
       "      <td>NaN</td>\n",
       "      <td>Open</td>\n",
       "      <td>0</td>\n",
       "      <td>180</td>\n",
       "      <td>0</td>\n",
       "      <td>Fall_2025</td>\n",
       "    </tr>\n",
       "    <tr>\n",
       "      <th>1</th>\n",
       "      <td>12774</td>\n",
       "      <td>AAS</td>\n",
       "      <td>1010</td>\n",
       "      <td>101</td>\n",
       "      <td>Discussion</td>\n",
       "      <td>0</td>\n",
       "      <td>To Be Announced</td>\n",
       "      <td>We 6:00pm - 6:50pm</td>\n",
       "      <td>New Cabell Hall 283</td>\n",
       "      <td>Introduction to African-American and African S...</td>\n",
       "      <td>NaN</td>\n",
       "      <td>Open</td>\n",
       "      <td>0</td>\n",
       "      <td>20</td>\n",
       "      <td>0</td>\n",
       "      <td>Fall_2025</td>\n",
       "    </tr>\n",
       "    <tr>\n",
       "      <th>2</th>\n",
       "      <td>10006</td>\n",
       "      <td>AAS</td>\n",
       "      <td>1010</td>\n",
       "      <td>102</td>\n",
       "      <td>Discussion</td>\n",
       "      <td>0</td>\n",
       "      <td>To Be Announced</td>\n",
       "      <td>We 5:00pm - 5:50pm</td>\n",
       "      <td>New Cabell Hall 287</td>\n",
       "      <td>Introduction to African-American and African S...</td>\n",
       "      <td>NaN</td>\n",
       "      <td>Open</td>\n",
       "      <td>0</td>\n",
       "      <td>20</td>\n",
       "      <td>0</td>\n",
       "      <td>Fall_2025</td>\n",
       "    </tr>\n",
       "    <tr>\n",
       "      <th>3</th>\n",
       "      <td>10004</td>\n",
       "      <td>AAS</td>\n",
       "      <td>1010</td>\n",
       "      <td>103</td>\n",
       "      <td>Discussion</td>\n",
       "      <td>0</td>\n",
       "      <td>To Be Announced</td>\n",
       "      <td>Tu 7:00pm - 7:50pm</td>\n",
       "      <td>New Cabell Hall 411</td>\n",
       "      <td>Introduction to African-American and African S...</td>\n",
       "      <td>NaN</td>\n",
       "      <td>Open</td>\n",
       "      <td>0</td>\n",
       "      <td>20</td>\n",
       "      <td>0</td>\n",
       "      <td>Fall_2025</td>\n",
       "    </tr>\n",
       "    <tr>\n",
       "      <th>4</th>\n",
       "      <td>10005</td>\n",
       "      <td>AAS</td>\n",
       "      <td>1010</td>\n",
       "      <td>104</td>\n",
       "      <td>Discussion</td>\n",
       "      <td>0</td>\n",
       "      <td>To Be Announced</td>\n",
       "      <td>Tu 8:00pm - 8:50pm</td>\n",
       "      <td>New Cabell Hall 411</td>\n",
       "      <td>Introduction to African-American and African S...</td>\n",
       "      <td>NaN</td>\n",
       "      <td>Open</td>\n",
       "      <td>0</td>\n",
       "      <td>20</td>\n",
       "      <td>0</td>\n",
       "      <td>Fall_2025</td>\n",
       "    </tr>\n",
       "  </tbody>\n",
       "</table>\n",
       "</div>"
      ],
      "text/plain": [
       "   ClassNumber Mnemonic Number Section        Type Units  \\\n",
       "0        10003      AAS   1010     100     Lecture     4   \n",
       "1        12774      AAS   1010     101  Discussion     0   \n",
       "2        10006      AAS   1010     102  Discussion     0   \n",
       "3        10004      AAS   1010     103  Discussion     0   \n",
       "4        10005      AAS   1010     104  Discussion     0   \n",
       "\n",
       "                        Instructor                   Days  \\\n",
       "0  Robert Vinson, Naseemah Mohamed  TuTh 12:30pm - 1:45pm   \n",
       "1                  To Be Announced     We 6:00pm - 6:50pm   \n",
       "2                  To Be Announced     We 5:00pm - 5:50pm   \n",
       "3                  To Be Announced     Tu 7:00pm - 7:50pm   \n",
       "4                  To Be Announced     Tu 8:00pm - 8:50pm   \n",
       "\n",
       "                  Room                                              Title  \\\n",
       "0       Minor Hall 125  Introduction to African-American and African S...   \n",
       "1  New Cabell Hall 283  Introduction to African-American and African S...   \n",
       "2  New Cabell Hall 287  Introduction to African-American and African S...   \n",
       "3  New Cabell Hall 411  Introduction to African-American and African S...   \n",
       "4  New Cabell Hall 411  Introduction to African-American and African S...   \n",
       "\n",
       "  Topic Status  Enrollment  EnrollmentLimit  Waitlist   filename  \n",
       "0   NaN   Open           0              180         0  Fall_2025  \n",
       "1   NaN   Open           0               20         0  Fall_2025  \n",
       "2   NaN   Open           0               20         0  Fall_2025  \n",
       "3   NaN   Open           0               20         0  Fall_2025  \n",
       "4   NaN   Open           0               20         0  Fall_2025  "
      ]
     },
     "execution_count": 148,
     "metadata": {},
     "output_type": "execute_result"
    }
   ],
   "source": [
    "import glob\n",
    "csv_files = glob.glob(\"./Lous_List/*.csv\") # Get all files within folder\n",
    "courses = pd.concat(\n",
    "    (pd.read_csv(f).assign(filename=os.path.basename(f)[:-4]) for f in csv_files),\n",
    "    ignore_index=True\n",
    ")\n",
    "\n",
    "courses.head()"
   ]
  },
  {
   "cell_type": "markdown",
   "metadata": {},
   "source": [
    "# Store data in ChromaDB vectorized database"
   ]
  },
  {
   "cell_type": "markdown",
   "metadata": {
    "tags": []
   },
   "source": [
    "### Creating and Testing Embedding"
   ]
  },
  {
   "cell_type": "code",
   "execution_count": 17,
   "metadata": {
    "tags": []
   },
   "outputs": [
    {
     "name": "stdout",
     "output_type": "stream",
     "text": [
      "Embedding a test sentence: [0.042972829192876816, 0.0966348648071289, -0.002129161963239312, 0.07826831191778183, -0.006417457479983568]\n"
     ]
    }
   ],
   "source": [
    "from llama_index.embeddings.huggingface import HuggingFaceEmbedding\n",
    "from llama_index.core import Settings\n",
    "\n",
    "embed_model = HuggingFaceEmbedding(model_name = \"all-MiniLM-L6-v2\") # Load local embedding model\n",
    "Settings.embed_model = embed_model\n",
    "print(\"Embedding a test sentence:\", Settings.embed_model.get_text_embedding(\"test sentence\")[:5])"
   ]
  },
  {
   "cell_type": "markdown",
   "metadata": {},
   "source": [
    "### Creating ChromaDB and Saving Documents"
   ]
  },
  {
   "cell_type": "markdown",
   "metadata": {},
   "source": [
    "#### 1. Majors Index"
   ]
  },
  {
   "cell_type": "code",
   "execution_count": 149,
   "metadata": {
    "tags": []
   },
   "outputs": [],
   "source": [
    "from llama_index.core.schema import Document\n",
    "from llama_index.core import VectorStoreIndex\n",
    "from llama_index.vector_stores.chroma import ChromaVectorStore\n",
    "\n",
    "# Convert each row to a LlamaIndex document\n",
    "documents = [\n",
    "    Document(\n",
    "        text = row[\"Text\"],\n",
    "        metadata = {\"Major\": row[\"Major\"], \"School\": row[\"School\"]}\n",
    "    )\n",
    "    for _, row in majors_meta.iterrows()\n",
    "]\n",
    "\n",
    "# 1. Initialize Chroma vector store for majors (persistent DB stored in ./chroma_db folder)\n",
    "chroma_store = ChromaVectorStore.from_params(\n",
    "    collection_name = \"majors_collection\",\n",
    "    persist_dir = \"./chroma_db\"  # local directory for vector store\n",
    ")\n",
    "\n",
    "# 2. Create the majors index — this will auto-chunk + auto-embed\n",
    "index = VectorStoreIndex.from_documents(documents, vector_store = chroma_store)\n",
    "index.storage_context.persist() # 3. Persist to disk"
   ]
  },
  {
   "cell_type": "markdown",
   "metadata": {},
   "source": [
    "#### 2. Courses Index"
   ]
  },
  {
   "cell_type": "code",
   "execution_count": 151,
   "metadata": {
    "tags": []
   },
   "outputs": [],
   "source": [
    "# Convert each row to a LlamaIndex document\n",
    "course_docs = []\n",
    "for _, row in courses.iterrows():\n",
    "    course_text = f\"\"\"Course ID: {row['Mnemonic']+str(row['Number'])}\n",
    "        Title: {row['Title']}\n",
    "        Credits: {row['Units']},\n",
    "        Instructor: {row['Instructor']},\n",
    "        Schedule: {row['Days']},\n",
    "        Period: {row['filename']}\"\"\"\n",
    "    course_docs.append(Document(text=course_text, metadata=row.to_dict()))\n",
    "    \n",
    "# 1. Initialize Chroma vector store for courses\n",
    "courses_chroma_store = ChromaVectorStore.from_params(\n",
    "    collection_name = \"courses_collection\", \n",
    "    persist_dir = \"./chroma_db\")\n",
    "\n",
    "# 2. Create the courses index\n",
    "courses_index = VectorStoreIndex.from_documents(course_docs, vector_store = courses_chroma_store)\n",
    "courses_index.storage_context.persist() # 3. Persist to disk"
   ]
  },
  {
   "cell_type": "markdown",
   "metadata": {},
   "source": [
    "# Retrieval"
   ]
  },
  {
   "cell_type": "code",
   "execution_count": 164,
   "metadata": {
    "tags": []
   },
   "outputs": [
    {
     "name": "stdout",
     "output_type": "stream",
     "text": [
      "\n",
      "📚 Result 1:\n",
      "{'Major': 'Computer Science, B.S.', 'School': 'School of Engineering and Applied Science'}\n",
      "Some students with programming experience may wish to take the place-out test, which satisfies the requirement but does not award degree credit.  Please contact the department for more information about place-out tests. Choose one of the following: CS 1110 - Introduction to Programming Credits:          3 CS 1111 - Introduction to Programming Credits:          3 CS 1112 - Introduction to Programming Credits:          3 CS 1113 - Introduction to Programming Credits:          3 Foundation Courses \n",
      "\n",
      "📚 Result 2:\n",
      "{'Major': 'Computer Science, B.A.', 'School': 'College of Arts and Sciences'}\n",
      "Computer Science, B.A. Print-Friendly Page (opens a new window) Return to: College of Arts & Sciences: Degree Programs The BA degree program in Computer Science provides students with a solid foundation in computer science theory and practice. An important goal of the program is give students the ability to apply computing to other disciplines in the arts and sciences (e.g., life and physical sciences, mathematics, social sciences, visual and performing arts). This idea of studying computer scie\n"
     ]
    }
   ],
   "source": [
    "from llama_index.core import StorageContext, load_index_from_storage\n",
    "\n",
    "# 1. Reload the Index from Storage\n",
    "#storage_context = StorageContext.from_defaults(persist_dir = \"./chroma_db\")\n",
    "#index = load_index_from_storage(storage_context)\n",
    "\n",
    "# 2. Set Up a Query Engine (Retriever + LLM)\n",
    "retriever = index.as_retriever(similarity_top_k = 2, embed_model = embed_model)\n",
    "\n",
    "query = \"core courses for computer science major\"\n",
    "nodes = retriever.retrieve(query)\n",
    "\n",
    "for i, node in enumerate(nodes, 1):\n",
    "    print(f\"\\n📚 Result {i}:\")\n",
    "    print(node.metadata)\n",
    "    print(node.text[:500])"
   ]
  },
  {
   "cell_type": "code",
   "execution_count": 165,
   "metadata": {
    "tags": []
   },
   "outputs": [
    {
     "name": "stdout",
     "output_type": "stream",
     "text": [
      "\n",
      "📚 Result 1:\n",
      "{'ClassNumber': 12626, 'Mnemonic': 'STAT', 'Number': 1601, 'Section': '003', 'Type': 'Lecture', 'Units': '3', 'Instructor': 'Kristen Roland', 'Days': 'TuTh 2:00pm - 3:15pm', 'Room': 'Chemistry Bldg 217', 'Title': 'Introduction to Data Science with R', 'Topic': nan, 'Status': 'Closed', 'Enrollment': 92, 'EnrollmentLimit': 90, 'Waitlist': 0, 'filename': 'Spring_2025'}\n",
      "Course ID: STAT1601\n",
      "        Title: Introduction to Data Science with R\n",
      "        Credits: 3,\n",
      "        Instructor: Kristen Roland,\n",
      "        Schedule: TuTh 2:00pm - 3:15pm,\n",
      "        Period: Spring_2025\n",
      "\n",
      "📚 Result 2:\n",
      "{'ClassNumber': 21143, 'Mnemonic': 'DS', 'Number': 5111, 'Section': '001', 'Type': 'Lecture', 'Units': '3', 'Instructor': 'Jonathan Kropko', 'Days': 'Tu 8:30pm - 9:30pm', 'Room': 'Web-Based Course', 'Title': 'Streamlining Data Science with Software and Automation Skills', 'Topic': nan, 'Status': 'Open', 'Enrollment': 33, 'EnrollmentLimit': 60, 'Waitlist': 0, 'filename': 'Spring_2025'}\n",
      "Course ID: DS5111\n",
      "        Title: Streamlining Data Science with Software and Automation Skills\n",
      "        Credits: 3,\n",
      "        Instructor: Jonathan Kropko,\n",
      "        Schedule: Tu 8:30pm - 9:30pm,\n",
      "        Period: Spring_2025\n",
      "\n",
      "📚 Result 3:\n",
      "{'ClassNumber': 12252, 'Mnemonic': 'STAT', 'Number': 1601, 'Section': '001', 'Type': 'Lecture', 'Units': '3', 'Instructor': 'Kristen Roland', 'Days': 'TuTh 9:30am - 10:45am', 'Room': 'Chemistry Bldg 217', 'Title': 'Introduction to Data Science with R', 'Topic': nan, 'Status': 'Closed', 'Enrollment': 99, 'EnrollmentLimit': 90, 'Waitlist': 0, 'filename': 'Spring_2025'}\n",
      "Course ID: STAT1601\n",
      "        Title: Introduction to Data Science with R\n",
      "        Credits: 3,\n",
      "        Instructor: Kristen Roland,\n",
      "        Schedule: TuTh 9:30am - 10:45am,\n",
      "        Period: Spring_2025\n"
     ]
    }
   ],
   "source": [
    "# Querying the courses index\n",
    "nodes = courses_index.as_retriever(similarity_top_k=3).retrieve(\"Data Science Spring 2025\")\n",
    "\n",
    "for i, node in enumerate(nodes, 1):\n",
    "    print(f\"\\n📚 Result {i}:\")\n",
    "    print(node.metadata)\n",
    "    print(node.text[:500])"
   ]
  },
  {
   "cell_type": "markdown",
   "metadata": {},
   "source": [
    "# Retrieve relevant information from both indices"
   ]
  },
  {
   "cell_type": "code",
   "execution_count": 176,
   "metadata": {
    "tags": []
   },
   "outputs": [],
   "source": [
    "# Retrieve major requirements\n",
    "major_retriever = index.as_retriever(similarity_top_k=1)\n",
    "major_info = major_retriever.retrieve(\"I am a data science major\")[0].get_content()\n",
    "\n",
    "# Retrieve available courses (you can filter this by Spring 2025)\n",
    "course_retriever = courses_index.as_retriever(similarity_top_k=20)\n",
    "available_courses = course_retriever.retrieve(\"Spring 2025 data science courses\")\n",
    "available_course_texts = \"\\n\\n\".join([node.get_content() for node in available_courses])"
   ]
  },
  {
   "cell_type": "markdown",
   "metadata": {},
   "source": [
    "# Generation"
   ]
  },
  {
   "cell_type": "code",
   "execution_count": 186,
   "metadata": {
    "tags": []
   },
   "outputs": [
    {
     "data": {
      "application/vnd.jupyter.widget-view+json": {
       "model_id": "cbb4b674085a4ef9abdbf880d0ad5e14",
       "version_major": 2,
       "version_minor": 0
      },
      "text/plain": [
       "Loading checkpoint shards:   0%|          | 0/2 [00:00<?, ?it/s]"
      ]
     },
     "metadata": {},
     "output_type": "display_data"
    }
   ],
   "source": [
    "load_dotenv() # Load environment variables from .env file\n",
    "token = os.getenv(\"HUGGINFACE_TOKEN\") # Retrieve the token\n",
    "\n",
    "# Log into huggingface\n",
    "login(token = token)\n",
    "\n",
    "# 1. Load model\n",
    "llm = HuggingFaceLLM(model_name = \"mistralai/Mistral-7B-Instruct-v0.1\",\n",
    "                     tokenizer_name = \"mistralai/Mistral-7B-Instruct-v0.1\",\n",
    "                     device_map = \"auto\",       # uses GPU if available, else CPU\n",
    "                     max_new_tokens = 512,  # or even 1024\n",
    "                     model_kwargs = {\n",
    "                         \"offload_folder\": \"./offload\",  # If needed for disk-based offloading\n",
    "                         \"torch_dtype\": torch.float16,\n",
    "                         \"trust_remote_code\": True\n",
    "                     },\n",
    "                     generate_kwargs = {\n",
    "                         \"temperature\": 0.1\n",
    "                     },\n",
    "                     system_prompt = SYSTEM_PROMPT)"
   ]
  },
  {
   "cell_type": "code",
   "execution_count": 187,
   "metadata": {
    "tags": []
   },
   "outputs": [
    {
     "name": "stderr",
     "output_type": "stream",
     "text": [
      "/home/eqa7yg/.local/lib/python3.11/site-packages/transformers/generation/configuration_utils.py:631: UserWarning: `do_sample` is set to `False`. However, `temperature` is set to `0.1` -- this flag is only used in sample-based generation modes. You should set `do_sample=True` or unset `temperature`.\n",
      "  warnings.warn(\n",
      "Setting `pad_token_id` to `eos_token_id`:2 for open-end generation.\n"
     ]
    },
    {
     "name": "stdout",
     "output_type": "stream",
     "text": [
      "\n",
      "* <Course ID>: <Title> | <Schedule> | <Instructor>\n",
      "\n",
      "Spring 2025 Schedule:\n",
      "\n",
      "* DS5111: Streamlining Data Science with Software and Automation Skills | Tu 8:30pm - 9:30pm | Jonathan Kropko\n",
      "* DS3025: Mathematics for Data Science | TuTh 11:00am - 12:15pm | Aaron Abrams\n",
      "* DS1002: Programming for Data Science | TuTh 8:00am - 9:15am | Mai Dahshan\n",
      "* STAT1601: Introduction to Data Science with R | TuTh 2:00pm - 3:15pm | Kristen Roland\n",
      "\n",
      "Total Credits: 12\n",
      "\n",
      "Note: The schedule is subject to change based on instructor availability and course availability. It is recommended to check the SIS for the most up-to-date schedule.\n"
     ]
    }
   ],
   "source": [
    "# Set system prompt\n",
    "SYSTEM_PROMPT = \"\"\"You are a helpful academic advisor at UVA. Given the student's major requirements and available courses, generate a schedule for Spring 2025. \n",
    "- Include only courses relevant to their major\n",
    "- Avoid time conflicts\n",
    "- Aim for 12 to 15 credits\n",
    "- Each bullet should include: Course ID, Title, Days & Time, and Instructor.\n",
    "- Include course title, schedule, and professor.\n",
    "- Only use courses from the list provided below.\n",
    "\n",
    "Format:\n",
    "\n",
    "* <Course ID>: <Title> | <Schedule> | <Instructor>\"\"\"\n",
    "\n",
    "# Combine system prompt with information retrieved from previous queries\n",
    "full_prompt = f\"\"\"{SYSTEM_PROMPT}\n",
    "\n",
    "Major Requirements:\n",
    "{major_info}\n",
    "\n",
    "Available Courses:\n",
    "{available_course_texts}\n",
    "\n",
    "Generate the schedule below:\n",
    "\"\"\"\n",
    "\n",
    "response = llm.complete(full_prompt)\n",
    "print(response.text)"
   ]
  },
  {
   "cell_type": "markdown",
   "metadata": {},
   "source": [
    "### Function to generate repsonse"
   ]
  },
  {
   "cell_type": "code",
   "execution_count": 193,
   "metadata": {
    "tags": []
   },
   "outputs": [
    {
     "name": "stderr",
     "output_type": "stream",
     "text": [
      "Setting `pad_token_id` to `eos_token_id`:2 for open-end generation.\n"
     ]
    },
    {
     "name": "stdout",
     "output_type": "stream",
     "text": [
      "\n",
      "    <Course ID>: <Title> | <Schedule> | <Instructor>\n",
      "\n",
      "    DS5111: Streamlining Data Science with Software and Automation Skills | Tu 8:30pm - 9:30pm | Jonathan Kropko\n",
      "\n",
      "    DS3025: Mathematics for Data Science | TuTh 11:00am - 12:15pm | Aaron Abrams\n",
      "\n",
      "    DS1002: Programming for Data Science | TuTh 8:00am - 9:15am | Mai Dahshan\n",
      "\n",
      "    COMM3220: Data Management for Decision Making | TuTh 9:30am - 10:45am | David Schuff\n",
      "\n",
      "    DS2002: Data Science Systems | MoWe 3:30pm - 4:45pm | Neal Magee\n",
      "\n",
      "    DS6001: Data Engineering I: Data Pipeline Architecture | We 7:15pm - 8:15pm | Jonathan Kropko\n",
      "\n",
      "    DS1002: Programming for Data Science | TuTh 12:30pm - 1:45pm | Mai Dahshan\n",
      "\n",
      "    COMM3220: Data Management for Decision Making | MoWe 12:30pm - 1:45pm | Suprateek Sarker\n",
      "\n",
      "    PLAN6040: Quantitative Methods of Planning Analysis | TuTh 9:30am - 10:45am | Andrew Mondschein\n",
      "\n",
      "    DS2002: Data Science Systems | MoWe 3:30pm - 4:45pm | Jason Williamson\n",
      "\n",
      "    IT3600: Data Analytics & Decision-Making | Mo 1:24am - 1:25am | Majed Al-Ghandour\n",
      "\n",
      "    DS5100: Programming for Data Science | Tu 7:15pm - 8:15pm | Rafael Alvarado\n",
      "\n",
      "    DS6015: Data Science Capstone | Th 7:15pm - 9:15pm | Abbas Kazemipour\n",
      "\n",
      "    DS6015: Data Science\n"
     ]
    }
   ],
   "source": [
    "def generate_response(query, k_s = 20):\n",
    "    # Retrieve context on the major\n",
    "    major_retriever = index.as_retriever(similarity_top_k=1)\n",
    "    major_info = major_retriever.retrieve(query)[0].get_content()\n",
    "    \n",
    "    # Retrieve available courses\n",
    "    course_retriever = courses_index.as_retriever(similarity_top_k=20)\n",
    "    available_courses = course_retriever.retrieve(query)\n",
    "    available_course_texts = \"\\n\\n\".join([node.get_content() for node in available_courses])\n",
    "\n",
    "    # Construct full prompt with retrieved information\n",
    "    full_prompt = f\"\"\"{SYSTEM_PROMPT}\n",
    "\n",
    "    Major Requirements:\n",
    "    {major_info}\n",
    "\n",
    "    Available Courses:\n",
    "    {available_course_texts}\n",
    "\n",
    "    Generate the schedule below:\n",
    "    \"\"\"\n",
    "    \n",
    "    response = llm.complete(full_prompt) # prompt response\n",
    "    return response.text\n",
    "\n",
    "query = \"I am a data scientist major, need schedule for Spring 2025\"\n",
    "print(generate_response(query))"
   ]
  },
  {
   "cell_type": "code",
   "execution_count": null,
   "metadata": {},
   "outputs": [],
   "source": []
  }
 ],
 "metadata": {
  "kernelspec": {
   "display_name": "Python 3 (ipykernel)",
   "language": "python",
   "name": "python3"
  },
  "language_info": {
   "codemirror_mode": {
    "name": "ipython",
    "version": 3
   },
   "file_extension": ".py",
   "mimetype": "text/x-python",
   "name": "python",
   "nbconvert_exporter": "python",
   "pygments_lexer": "ipython3",
   "version": "3.11.4"
  }
 },
 "nbformat": 4,
 "nbformat_minor": 4
}
